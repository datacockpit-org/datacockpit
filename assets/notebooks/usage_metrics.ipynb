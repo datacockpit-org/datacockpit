{
 "cells": [
  {
   "cell_type": "markdown",
   "metadata": {},
   "source": [
    "### Imports"
   ]
  },
  {
   "cell_type": "code",
   "execution_count": 26,
   "metadata": {},
   "outputs": [],
   "source": [
    "import sqlalchemy\n",
    "import duckdb  # to run SQL-like commands on pandas dataframes\n",
    "import matplotlib.pyplot as plt\n",
    "import pandas as pd\n",
    "from datacockpit import DataCockpit"
   ]
  },
  {
   "cell_type": "markdown",
   "metadata": {},
   "source": [
    "### Initialize Database engine"
   ]
  },
  {
   "cell_type": "code",
   "execution_count": 3,
   "metadata": {},
   "outputs": [],
   "source": [
    "engine = sqlalchemy.create_engine('sqlite:////Users/<your_username>/mydb')"
   ]
  },
  {
   "cell_type": "markdown",
   "metadata": {},
   "source": [
    "### Initialize DataCockpit"
   ]
  },
  {
   "cell_type": "code",
   "execution_count": 5,
   "metadata": {},
   "outputs": [],
   "source": [
    "dcp_obj = DataCockpit(engine=engine, \n",
    "        path_to_logs=\"../data/query_logs.csv\")"
   ]
  },
  {
   "cell_type": "markdown",
   "metadata": {},
   "source": [
    "### Compute Usage Information"
   ]
  },
  {
   "cell_type": "code",
   "execution_count": null,
   "metadata": {},
   "outputs": [],
   "source": [
    "dcp_obj.compute_usage()"
   ]
  },
  {
   "cell_type": "markdown",
   "metadata": {},
   "source": [
    "### Get Usage Information"
   ]
  },
  {
   "cell_type": "code",
   "execution_count": null,
   "metadata": {},
   "outputs": [],
   "source": [
    "metadata_df, aggr_df, dataset_usage_df = dcp_obj.get_usage()"
   ]
  },
  {
   "cell_type": "code",
   "execution_count": 7,
   "metadata": {},
   "outputs": [
    {
     "data": {
      "text/html": [
       "<div>\n",
       "<style scoped>\n",
       "    .dataframe tbody tr th:only-of-type {\n",
       "        vertical-align: middle;\n",
       "    }\n",
       "\n",
       "    .dataframe tbody tr th {\n",
       "        vertical-align: top;\n",
       "    }\n",
       "\n",
       "    .dataframe thead th {\n",
       "        text-align: right;\n",
       "    }\n",
       "</style>\n",
       "<table border=\"1\" class=\"dataframe\">\n",
       "  <thead>\n",
       "    <tr style=\"text-align: right;\">\n",
       "      <th></th>\n",
       "      <th>index</th>\n",
       "      <th>database</th>\n",
       "      <th>dataset</th>\n",
       "      <th>attribute</th>\n",
       "      <th>query_type</th>\n",
       "      <th>query_id</th>\n",
       "      <th>timestamp</th>\n",
       "      <th>user</th>\n",
       "      <th>application</th>\n",
       "      <th>period_type</th>\n",
       "      <th>period</th>\n",
       "    </tr>\n",
       "  </thead>\n",
       "  <tbody>\n",
       "    <tr>\n",
       "      <th>0</th>\n",
       "      <td>0</td>\n",
       "      <td>01org_virtual-storage-manager</td>\n",
       "      <td>metrics</td>\n",
       "      <td>metrics.metric</td>\n",
       "      <td>where</td>\n",
       "      <td>2</td>\n",
       "      <td>1668016389</td>\n",
       "      <td>user-3</td>\n",
       "      <td>cli</td>\n",
       "      <td>daily</td>\n",
       "      <td>2022-11-09</td>\n",
       "    </tr>\n",
       "    <tr>\n",
       "      <th>1</th>\n",
       "      <td>0</td>\n",
       "      <td>01org_virtual-storage-manager</td>\n",
       "      <td>metrics</td>\n",
       "      <td>metrics.metric</td>\n",
       "      <td>where</td>\n",
       "      <td>3</td>\n",
       "      <td>1668040568</td>\n",
       "      <td>user-6</td>\n",
       "      <td>web-prod</td>\n",
       "      <td>daily</td>\n",
       "      <td>2022-11-09</td>\n",
       "    </tr>\n",
       "    <tr>\n",
       "      <th>2</th>\n",
       "      <td>0</td>\n",
       "      <td>01org_virtual-storage-manager</td>\n",
       "      <td>migrate_version</td>\n",
       "      <td>migrate_version.*</td>\n",
       "      <td>select</td>\n",
       "      <td>5</td>\n",
       "      <td>1668078064</td>\n",
       "      <td>user-2</td>\n",
       "      <td>cli</td>\n",
       "      <td>daily</td>\n",
       "      <td>2022-11-10</td>\n",
       "    </tr>\n",
       "  </tbody>\n",
       "</table>\n",
       "</div>"
      ],
      "text/plain": [
       "   index                       database          dataset          attribute  \\\n",
       "0      0  01org_virtual-storage-manager          metrics     metrics.metric   \n",
       "1      0  01org_virtual-storage-manager          metrics     metrics.metric   \n",
       "2      0  01org_virtual-storage-manager  migrate_version  migrate_version.*   \n",
       "\n",
       "  query_type  query_id   timestamp    user application period_type      period  \n",
       "0      where         2  1668016389  user-3         cli       daily  2022-11-09  \n",
       "1      where         3  1668040568  user-6    web-prod       daily  2022-11-09  \n",
       "2     select         5  1668078064  user-2         cli       daily  2022-11-10  "
      ]
     },
     "execution_count": 7,
     "metadata": {},
     "output_type": "execute_result"
    }
   ],
   "source": [
    "metadata_df.head(3)"
   ]
  },
  {
   "cell_type": "code",
   "execution_count": 8,
   "metadata": {},
   "outputs": [
    {
     "data": {
      "text/html": [
       "<div>\n",
       "<style scoped>\n",
       "    .dataframe tbody tr th:only-of-type {\n",
       "        vertical-align: middle;\n",
       "    }\n",
       "\n",
       "    .dataframe tbody tr th {\n",
       "        vertical-align: top;\n",
       "    }\n",
       "\n",
       "    .dataframe thead th {\n",
       "        text-align: right;\n",
       "    }\n",
       "</style>\n",
       "<table border=\"1\" class=\"dataframe\">\n",
       "  <thead>\n",
       "    <tr style=\"text-align: right;\">\n",
       "      <th></th>\n",
       "      <th>database</th>\n",
       "      <th>dataset</th>\n",
       "      <th>attribute</th>\n",
       "      <th>query_type</th>\n",
       "      <th>period</th>\n",
       "      <th>count_queries</th>\n",
       "    </tr>\n",
       "  </thead>\n",
       "  <tbody>\n",
       "    <tr>\n",
       "      <th>0</th>\n",
       "      <td>01org_virtual-storage-manager</td>\n",
       "      <td>metrics</td>\n",
       "      <td>metrics.metric</td>\n",
       "      <td>where</td>\n",
       "      <td>2022-11-09</td>\n",
       "      <td>2</td>\n",
       "    </tr>\n",
       "    <tr>\n",
       "      <th>1</th>\n",
       "      <td>01org_virtual-storage-manager</td>\n",
       "      <td>migrate_version</td>\n",
       "      <td>migrate_version.*</td>\n",
       "      <td>select</td>\n",
       "      <td>2022-11-10</td>\n",
       "      <td>1</td>\n",
       "    </tr>\n",
       "    <tr>\n",
       "      <th>2</th>\n",
       "      <td>01org_virtual-storage-manager</td>\n",
       "      <td>mysql.user</td>\n",
       "      <td>mysql.user.*</td>\n",
       "      <td>select</td>\n",
       "      <td>2022-11-10</td>\n",
       "      <td>1</td>\n",
       "    </tr>\n",
       "  </tbody>\n",
       "</table>\n",
       "</div>"
      ],
      "text/plain": [
       "                        database          dataset          attribute  \\\n",
       "0  01org_virtual-storage-manager          metrics     metrics.metric   \n",
       "1  01org_virtual-storage-manager  migrate_version  migrate_version.*   \n",
       "2  01org_virtual-storage-manager       mysql.user       mysql.user.*   \n",
       "\n",
       "  query_type      period  count_queries  \n",
       "0      where  2022-11-09              2  \n",
       "1     select  2022-11-10              1  \n",
       "2     select  2022-11-10              1  "
      ]
     },
     "execution_count": 8,
     "metadata": {},
     "output_type": "execute_result"
    }
   ],
   "source": [
    "aggr_df.head(3)"
   ]
  },
  {
   "cell_type": "code",
   "execution_count": 9,
   "metadata": {},
   "outputs": [
    {
     "data": {
      "text/html": [
       "<div>\n",
       "<style scoped>\n",
       "    .dataframe tbody tr th:only-of-type {\n",
       "        vertical-align: middle;\n",
       "    }\n",
       "\n",
       "    .dataframe tbody tr th {\n",
       "        vertical-align: top;\n",
       "    }\n",
       "\n",
       "    .dataframe thead th {\n",
       "        text-align: right;\n",
       "    }\n",
       "</style>\n",
       "<table border=\"1\" class=\"dataframe\">\n",
       "  <thead>\n",
       "    <tr style=\"text-align: right;\">\n",
       "      <th></th>\n",
       "      <th>database</th>\n",
       "      <th>dataset</th>\n",
       "      <th>query_count</th>\n",
       "      <th>unique_user_count</th>\n",
       "      <th>dataset_usage_frequency_score</th>\n",
       "      <th>no_of_unique_users_score</th>\n",
       "      <th>overall_dataset_usage_score</th>\n",
       "    </tr>\n",
       "  </thead>\n",
       "  <tbody>\n",
       "    <tr>\n",
       "      <th>0</th>\n",
       "      <td>01org_virtual-storage-manager</td>\n",
       "      <td>metrics</td>\n",
       "      <td>2</td>\n",
       "      <td>2</td>\n",
       "      <td>14</td>\n",
       "      <td>14</td>\n",
       "      <td>14</td>\n",
       "    </tr>\n",
       "    <tr>\n",
       "      <th>1</th>\n",
       "      <td>01org_virtual-storage-manager</td>\n",
       "      <td>migrate_version</td>\n",
       "      <td>1</td>\n",
       "      <td>1</td>\n",
       "      <td>7</td>\n",
       "      <td>7</td>\n",
       "      <td>7</td>\n",
       "    </tr>\n",
       "    <tr>\n",
       "      <th>2</th>\n",
       "      <td>01org_virtual-storage-manager</td>\n",
       "      <td>mysql.user</td>\n",
       "      <td>2</td>\n",
       "      <td>1</td>\n",
       "      <td>14</td>\n",
       "      <td>7</td>\n",
       "      <td>14</td>\n",
       "    </tr>\n",
       "  </tbody>\n",
       "</table>\n",
       "</div>"
      ],
      "text/plain": [
       "                        database          dataset  query_count  \\\n",
       "0  01org_virtual-storage-manager          metrics            2   \n",
       "1  01org_virtual-storage-manager  migrate_version            1   \n",
       "2  01org_virtual-storage-manager       mysql.user            2   \n",
       "\n",
       "   unique_user_count  dataset_usage_frequency_score  no_of_unique_users_score  \\\n",
       "0                  2                             14                        14   \n",
       "1                  1                              7                         7   \n",
       "2                  1                             14                         7   \n",
       "\n",
       "   overall_dataset_usage_score  \n",
       "0                           14  \n",
       "1                            7  \n",
       "2                           14  "
      ]
     },
     "execution_count": 9,
     "metadata": {},
     "output_type": "execute_result"
    }
   ],
   "source": [
    "dataset_usage_df.head(3)"
   ]
  },
  {
   "cell_type": "markdown",
   "metadata": {},
   "source": [
    "### Which are the most commonly queried datasets?"
   ]
  },
  {
   "cell_type": "code",
   "execution_count": 12,
   "metadata": {},
   "outputs": [
    {
     "name": "stdout",
     "output_type": "stream",
     "text": [
      "         dataset  frequency\n",
      "0         wnplts       5244\n",
      "1           wijk        492\n",
      "2        problem         78\n",
      "3           user         63\n",
      "4  brmo_metadata         50\n"
     ]
    }
   ],
   "source": [
    "query = \"\"\"\n",
    "    SELECT dataset, Count(query_id) AS frequency \n",
    "    FROM metadata_df \n",
    "    GROUP BY dataset \n",
    "    ORDER BY frequency DESC\n",
    "    LIMIT 5;\n",
    "\"\"\"\n",
    "print(duckdb.query(query).to_df())"
   ]
  },
  {
   "cell_type": "markdown",
   "metadata": {},
   "source": [
    "### How many unique users queried each dataset?"
   ]
  },
  {
   "cell_type": "code",
   "execution_count": 14,
   "metadata": {},
   "outputs": [
    {
     "name": "stdout",
     "output_type": "stream",
     "text": [
      "           dataset  user_count\n",
      "0          metrics           1\n",
      "1  migrate_version           1\n",
      "2       mysql.user           1\n",
      "3   storage_groups           1\n",
      "4        proposals           1\n"
     ]
    }
   ],
   "source": [
    "query = \"\"\"\n",
    "    SELECT dataset, count(distinct user) AS user_count \n",
    "    FROM metadata_df GROUP BY dataset\n",
    "    LIMIT 5;\n",
    "\"\"\"\n",
    "print(duckdb.query(query).to_df())"
   ]
  },
  {
   "cell_type": "markdown",
   "metadata": {},
   "source": [
    "### Which was the most frequent user per dataset?"
   ]
  },
  {
   "cell_type": "code",
   "execution_count": 17,
   "metadata": {},
   "outputs": [
    {
     "name": "stdout",
     "output_type": "stream",
     "text": [
      "           dataset most_freq_user\n",
      "0          metrics         duckdb\n",
      "1  migrate_version         duckdb\n",
      "2       mysql.user         duckdb\n",
      "3   storage_groups         duckdb\n",
      "4        proposals         duckdb\n"
     ]
    }
   ],
   "source": [
    "query = \"\"\"\n",
    "    select distinct t1.dataset, (\n",
    "        select user\n",
    "        from metadata_df t2\n",
    "        where t2.dataset = t1.dataset\n",
    "        group by user\n",
    "        order by count(*) desc\n",
    "        limit 1\n",
    "    ) as most_freq_user\n",
    "    from metadata_df t1\n",
    "    limit 5;\n",
    "\"\"\"\n",
    "print(duckdb.query(query).to_df())\n",
    "\n",
    "# Caveat: This query \"randomly\" resolves ties"
   ]
  },
  {
   "cell_type": "markdown",
   "metadata": {},
   "source": [
    "### Which was the most frequent column referenced per dataset?"
   ]
  },
  {
   "cell_type": "code",
   "execution_count": 18,
   "metadata": {},
   "outputs": [
    {
     "name": "stdout",
     "output_type": "stream",
     "text": [
      "           dataset        most_freq_attribute\n",
      "0          metrics             metrics.metric\n",
      "1  migrate_version          migrate_version.*\n",
      "2       mysql.user               mysql.user.*\n",
      "3   storage_groups  storage_groups.choose_num\n",
      "4        proposals           proposals.status\n"
     ]
    }
   ],
   "source": [
    "query = \"\"\"\n",
    "    select distinct t1.dataset, (\n",
    "        select attribute\n",
    "        from metadata_df t2\n",
    "        where t2.dataset = t1.dataset\n",
    "        group by attribute\n",
    "        order by count(*) desc\n",
    "        limit 1\n",
    "    ) as most_freq_attribute\n",
    "    from metadata_df t1\n",
    "    limit 5;\n",
    "\"\"\"\n",
    "print(duckdb.query(query).to_df())\n",
    "\n",
    "# Caveat: This query \"randomly\" resolves ties"
   ]
  },
  {
   "cell_type": "markdown",
   "metadata": {},
   "source": [
    "### Which was the most frequent column referenced per table?"
   ]
  },
  {
   "cell_type": "code",
   "execution_count": 20,
   "metadata": {},
   "outputs": [
    {
     "name": "stdout",
     "output_type": "stream",
     "text": [
      "           dataset        most_freq_attribute\n",
      "0          metrics             metrics.metric\n",
      "1  migrate_version          migrate_version.*\n",
      "2       mysql.user               mysql.user.*\n",
      "3   storage_groups  storage_groups.choose_num\n",
      "4        proposals           proposals.status\n"
     ]
    }
   ],
   "source": [
    "query = \"\"\"\n",
    "    select distinct t1.dataset, (\n",
    "        select attribute\n",
    "        from metadata_df t2\n",
    "        where t2.dataset = t1.dataset\n",
    "        group by attribute\n",
    "        order by count(*) desc\n",
    "        limit 1\n",
    "    ) as most_freq_attribute\n",
    "    from metadata_df t1\n",
    "    limit 5;\n",
    "\"\"\"\n",
    "print(duckdb.query(query).to_df())\n",
    "\n",
    "# Caveat: This query \"randomly\" resolves ties"
   ]
  },
  {
   "cell_type": "markdown",
   "metadata": {},
   "source": [
    "### Which application does each user most commonly use?"
   ]
  },
  {
   "cell_type": "code",
   "execution_count": 22,
   "metadata": {},
   "outputs": [
    {
     "name": "stdout",
     "output_type": "stream",
     "text": [
      "     user most_freq_application\n",
      "0  user-3              web-prod\n",
      "1  user-6              web-prod\n",
      "2  user-2              web-prod\n",
      "3  user-1              web-prod\n",
      "4  user-5              web-prod\n"
     ]
    }
   ],
   "source": [
    "query = \"\"\"\n",
    "    select distinct t1.user, (\n",
    "        select application\n",
    "        from metadata_df t2\n",
    "        where t2.user = t1.user\n",
    "        group by application\n",
    "        order by count(*) desc\n",
    "        limit 1\n",
    "    ) as most_freq_application\n",
    "    from metadata_df t1\n",
    "    limit 5;\n",
    "\"\"\"\n",
    "print(duckdb.query(query).to_df())\n",
    "\n",
    "# Caveat: This query \"randomly\" resolves ties"
   ]
  },
  {
   "cell_type": "markdown",
   "metadata": {},
   "source": [
    "### For each table, for each query type, which was the most commonly queried attribute?"
   ]
  },
  {
   "cell_type": "code",
   "execution_count": 23,
   "metadata": {},
   "outputs": [
    {
     "name": "stdout",
     "output_type": "stream",
     "text": [
      "           dataset query_type        most_freq_attribute\n",
      "0          metrics      where             metrics.metric\n",
      "1  migrate_version     select          migrate_version.*\n",
      "2       mysql.user     select   mysql.user.MAX_QUESTIONS\n",
      "3   storage_groups     select  storage_groups.choose_num\n",
      "4   storage_groups      where        storage_groups.name\n",
      "5        proposals     update           proposals.status\n",
      "6        proposals      where           proposals.status\n",
      "7         versions     update         versions.item_type\n",
      "8         versions      where         versions.item_type\n",
      "9            users     select              users.user_id\n"
     ]
    }
   ],
   "source": [
    "query = \"\"\"\n",
    "    select distinct t1.dataset, t1.query_type, (\n",
    "        select attribute\n",
    "        from metadata_df t2\n",
    "        where t2.dataset = t1.dataset and t2.query_type = t1.query_type\n",
    "        group by attribute\n",
    "        order by count(*) desc\n",
    "        limit 1\n",
    "    ) as most_freq_attribute\n",
    "    from metadata_df t1\n",
    "    limit 10;\n",
    "\"\"\"\n",
    "print(duckdb.query(query).to_df())"
   ]
  },
  {
   "cell_type": "markdown",
   "metadata": {},
   "source": [
    "### How did the most frequently accessed datasets grow with time?"
   ]
  },
  {
   "cell_type": "code",
   "execution_count": 27,
   "metadata": {},
   "outputs": [
    {
     "data": {
      "image/png": "[encoded data removed]",
      "text/plain": [
       "<Figure size 2000x1000 with 6 Axes>"
      ]
     },
     "metadata": {},
     "output_type": "display_data"
    }
   ],
   "source": [
    "\n",
    "query = \"\"\"\n",
    "    SELECT DISTINCT dataset, query_id, timestamp\n",
    "    FROM metadata_df WHERE dataset IN\n",
    "     (SELECT dataset \n",
    "    FROM metadata_df \n",
    "    GROUP BY dataset \n",
    "    ORDER BY Count(query_id) DESC\n",
    "    LIMIT 5)\n",
    "    ;\n",
    "\"\"\"\n",
    "\n",
    "query_ts_table = duckdb.query(query).to_df()\n",
    "query_ts_table['timestamp']= pd.to_datetime(query_ts_table['timestamp'], unit='s')\n",
    "query_ts_table['timestamp'].hist(by=query_ts_table['dataset'], figsize=(20, 10))\n",
    "plt.tight_layout()\n",
    "plt.show()\n",
    "\n"
   ]
  },
  {
   "cell_type": "markdown",
   "metadata": {},
   "source": [
    "### For the biggest datasets, what is the breakdown of the application?"
   ]
  },
  {
   "cell_type": "code",
   "execution_count": 30,
   "metadata": {},
   "outputs": [
    {
     "name": "stdout",
     "output_type": "stream",
     "text": [
      "  dataset  query_id application\n",
      "0   users        11    web-prod\n",
      "1   users        27    web-prod\n",
      "2   users        41    web-prod\n",
      "3   users        45    web-prod\n",
      "4   users        49    web-prod\n"
     ]
    },
    {
     "data": {
      "text/plain": [
       "Text(0, 0.5, 'Count of queries')"
      ]
     },
     "execution_count": 30,
     "metadata": {},
     "output_type": "execute_result"
    },
    {
     "data": {
      "image/png": "[encoded data removed]",
      "text/plain": [
       "<Figure size 700x600 with 1 Axes>"
      ]
     },
     "metadata": {},
     "output_type": "display_data"
    }
   ],
   "source": [
    "query = \"\"\"\n",
    "    SELECT DISTINCT dataset, query_id, application\n",
    "    FROM metadata_df WHERE dataset IN\n",
    "     (SELECT dataset \n",
    "    FROM metadata_df \n",
    "    GROUP BY dataset \n",
    "    ORDER BY Count(query_id) DESC\n",
    "    LIMIT 10)\n",
    "    ;\n",
    "\"\"\"\n",
    "query_ts_table = duckdb.query(query).to_df()\n",
    "print(query_ts_table.head())\n",
    "df_pivot = pd.pivot_table(\n",
    "\tquery_ts_table,\n",
    "\tvalues=\"query_id\",\n",
    "\tindex=\"dataset\",\n",
    "\tcolumns=\"application\",\n",
    "\taggfunc=\"count\"\n",
    ")\n",
    "\n",
    "# Plot a bar chart using the DF\n",
    "ax = df_pivot.plot(kind=\"bar\")\n",
    "# Get a Matplotlib figure from the axes object for formatting purposes\n",
    "fig = ax.get_figure()\n",
    "# Change the plot dimensions (width, height)\n",
    "fig.set_size_inches(7, 6)\n",
    "# Change the axes labels\n",
    "ax.set_xlabel(\"Dataset\")\n",
    "ax.set_ylabel(\"Count of queries\")\n",
    "\n"
   ]
  },
  {
   "cell_type": "markdown",
   "metadata": {},
   "source": [
    "### Which are the datasets that have a higher number of cli commands as opposed to web-prod? "
   ]
  },
  {
   "cell_type": "code",
   "execution_count": 32,
   "metadata": {},
   "outputs": [
    {
     "name": "stdout",
     "output_type": "stream",
     "text": [
      "                dataset  cli_count  web_prod_count  web_test_count  \\\n",
      "0              gemeente          3               0               0   \n",
      "1  pv_verblijfsobj_pand          3               0               0   \n",
      "2               profile          3               0               1   \n",
      "3               message          3               1               0   \n",
      "4          brondocument          2               0               2   \n",
      "\n",
      "   diff_cli_web_prod  \n",
      "0                  3  \n",
      "1                  3  \n",
      "2                  3  \n",
      "3                  2  \n",
      "4                  2  \n"
     ]
    }
   ],
   "source": [
    "# This acts as outlier detection since our probabilities of prod, cli, and test are .6, 0.3, and .1\n",
    "query = \"\"\"\n",
    "    SELECT dataset, \n",
    "    COUNT(DISTINCT query_id) FILTER(WHERE application = 'cli') AS cli_count,\n",
    "    COUNT(DISTINCT query_id) FILTER(WHERE application = 'web-prod') AS web_prod_count,\n",
    "    COUNT(DISTINCT query_id) FILTER(WHERE application = 'web-test') AS web_test_count,\n",
    "    cli_count - web_prod_count AS diff_cli_web_prod\n",
    "    FROM metadata_df GROUP BY dataset\n",
    "    ORDER BY diff_cli_web_prod DESC;\n",
    "\"\"\"\n",
    "query_ts_table = duckdb.query(query).to_df()\n",
    "print(query_ts_table.head())"
   ]
  }
 ],
 "metadata": {
  "kernelspec": {
   "display_name": "Python 3",
   "language": "python",
   "name": "python3"
  },
  "language_info": {
   "codemirror_mode": {
    "name": "ipython",
    "version": 3
   },
   "file_extension": ".py",
   "mimetype": "text/x-python",
   "name": "python",
   "nbconvert_exporter": "python",
   "pygments_lexer": "ipython3",
   "version": "3.7.9"
  },
  "vscode": {
   "interpreter": {
    "hash": "2eaad16b26862e78ad14e927cb4d4aaeffbc1ce1d2054c948a952d98e82de282"
   }
  }
 },
 "nbformat": 4,
 "nbformat_minor": 2
}

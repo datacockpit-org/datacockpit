{
 "cells": [
  {
   "cell_type": "markdown",
   "id": "cb83d04e",
   "metadata": {},
   "source": [
    "### Imports"
   ]
  },
  {
   "cell_type": "code",
   "execution_count": 1,
   "id": "63e4a6a7",
   "metadata": {},
   "outputs": [],
   "source": [
    "import sqlalchemy\n",
    "import matplotlib.pyplot as plt\n",
    "import pandas as pd\n",
    "from datacockpit import DataCockpit"
   ]
  },
  {
   "cell_type": "markdown",
   "id": "275c3f13",
   "metadata": {},
   "source": [
    "### Initialize Database Engine"
   ]
  },
  {
   "cell_type": "code",
   "execution_count": 2,
   "id": "e4076ccf",
   "metadata": {},
   "outputs": [],
   "source": [
    "engine = sqlalchemy.create_engine('sqlite:////Users/<your_username>/mydb')"
   ]
  },
  {
   "cell_type": "markdown",
   "id": "ea7c97d2",
   "metadata": {},
   "source": [
    "### Initialize datacockpit object"
   ]
  },
  {
   "cell_type": "code",
   "execution_count": 3,
   "id": "c003b5bc",
   "metadata": {},
   "outputs": [],
   "source": [
    "dcp_obj = DataCockpit(engine=engine, \n",
    "        path_to_logs=\"../data/query_logs.csv\")"
   ]
  },
  {
   "cell_type": "markdown",
   "id": "fd6d6ab8",
   "metadata": {},
   "source": [
    "### Compute Quality Information"
   ]
  },
  {
   "cell_type": "code",
   "execution_count": 4,
   "id": "d70f902f",
   "metadata": {},
   "outputs": [
    {
     "name": "stdout",
     "output_type": "stream",
     "text": [
      "/home/shivam/Documents/Gatech_Coursework/Semester1/DB/Final_project/repo/data-cockpit/quality/example_db\n",
      "Please wait. This might take a few minutes\n"
     ]
    }
   ],
   "source": [
    "dcp_obj.compute_quality()"
   ]
  },
  {
   "cell_type": "markdown",
   "id": "202772d5",
   "metadata": {},
   "source": [
    "### Get Quality Information"
   ]
  },
  {
   "cell_type": "code",
   "execution_count": null,
   "id": "228fc69a",
   "metadata": {},
   "outputs": [],
   "source": [
    "attribute_metrics, record_metrics = dcp_obj.get_quality()"
   ]
  },
  {
   "cell_type": "markdown",
   "id": "c19f90a3",
   "metadata": {},
   "source": [
    "### Print Attribute Metrics Table"
   ]
  },
  {
   "cell_type": "code",
   "execution_count": 6,
   "id": "cf3a717f",
   "metadata": {},
   "outputs": [
    {
     "data": {
      "text/html": [
       "<div>\n",
       "<style scoped>\n",
       "    .dataframe tbody tr th:only-of-type {\n",
       "        vertical-align: middle;\n",
       "    }\n",
       "\n",
       "    .dataframe tbody tr th {\n",
       "        vertical-align: top;\n",
       "    }\n",
       "\n",
       "    .dataframe thead th {\n",
       "        text-align: right;\n",
       "    }\n",
       "</style>\n",
       "<table border=\"1\" class=\"dataframe\">\n",
       "  <thead>\n",
       "    <tr style=\"text-align: right;\">\n",
       "      <th></th>\n",
       "      <th>db_name</th>\n",
       "      <th>table_name</th>\n",
       "      <th>attribute_name</th>\n",
       "      <th>timestamp</th>\n",
       "      <th>uniqueness</th>\n",
       "      <th>completeness</th>\n",
       "      <th>correctness</th>\n",
       "      <th>overall</th>\n",
       "    </tr>\n",
       "  </thead>\n",
       "  <tbody>\n",
       "    <tr>\n",
       "      <th>0</th>\n",
       "      <td>example_db</td>\n",
       "      <td>influence</td>\n",
       "      <td>serial_no</td>\n",
       "      <td>2023-02-03 23:38:52</td>\n",
       "      <td>100.000000</td>\n",
       "      <td>100.000000</td>\n",
       "      <td>99.972337</td>\n",
       "      <td>99.986169</td>\n",
       "    </tr>\n",
       "    <tr>\n",
       "      <th>1</th>\n",
       "      <td>example_db</td>\n",
       "      <td>influence</td>\n",
       "      <td>journal_name</td>\n",
       "      <td>2023-02-03 23:38:52</td>\n",
       "      <td>87.662517</td>\n",
       "      <td>100.000000</td>\n",
       "      <td>100.000000</td>\n",
       "      <td>100.000000</td>\n",
       "    </tr>\n",
       "    <tr>\n",
       "      <th>2</th>\n",
       "      <td>example_db</td>\n",
       "      <td>influence</td>\n",
       "      <td>issn</td>\n",
       "      <td>2023-02-03 23:38:52</td>\n",
       "      <td>100.000000</td>\n",
       "      <td>100.000000</td>\n",
       "      <td>100.000000</td>\n",
       "      <td>100.000000</td>\n",
       "    </tr>\n",
       "    <tr>\n",
       "      <th>3</th>\n",
       "      <td>example_db</td>\n",
       "      <td>influence</td>\n",
       "      <td>citation_count_sum</td>\n",
       "      <td>2023-02-03 23:38:52</td>\n",
       "      <td>42.351314</td>\n",
       "      <td>97.316736</td>\n",
       "      <td>99.695712</td>\n",
       "      <td>98.506224</td>\n",
       "    </tr>\n",
       "    <tr>\n",
       "      <th>4</th>\n",
       "      <td>example_db</td>\n",
       "      <td>influence</td>\n",
       "      <td>paper_count_sum</td>\n",
       "      <td>2023-02-03 23:38:52</td>\n",
       "      <td>30.262794</td>\n",
       "      <td>97.980636</td>\n",
       "      <td>100.000000</td>\n",
       "      <td>98.990318</td>\n",
       "    </tr>\n",
       "  </tbody>\n",
       "</table>\n",
       "</div>"
      ],
      "text/plain": [
       "      db_name table_name      attribute_name            timestamp  uniqueness  \\\n",
       "0  example_db  influence           serial_no  2023-02-03 23:38:52  100.000000   \n",
       "1  example_db  influence        journal_name  2023-02-03 23:38:52   87.662517   \n",
       "2  example_db  influence                issn  2023-02-03 23:38:52  100.000000   \n",
       "3  example_db  influence  citation_count_sum  2023-02-03 23:38:52   42.351314   \n",
       "4  example_db  influence     paper_count_sum  2023-02-03 23:38:52   30.262794   \n",
       "\n",
       "   completeness  correctness     overall  \n",
       "0    100.000000    99.972337   99.986169  \n",
       "1    100.000000   100.000000  100.000000  \n",
       "2    100.000000   100.000000  100.000000  \n",
       "3     97.316736    99.695712   98.506224  \n",
       "4     97.980636   100.000000   98.990318  "
      ]
     },
     "execution_count": 6,
     "metadata": {},
     "output_type": "execute_result"
    }
   ],
   "source": [
    "attribute_metrics.head()"
   ]
  },
  {
   "cell_type": "markdown",
   "id": "f2e10fc0",
   "metadata": {},
   "source": [
    "### Print Record Metrics Table"
   ]
  },
  {
   "cell_type": "code",
   "execution_count": 7,
   "id": "4b50c43e",
   "metadata": {},
   "outputs": [
    {
     "data": {
      "text/html": [
       "<div>\n",
       "<style scoped>\n",
       "    .dataframe tbody tr th:only-of-type {\n",
       "        vertical-align: middle;\n",
       "    }\n",
       "\n",
       "    .dataframe tbody tr th {\n",
       "        vertical-align: top;\n",
       "    }\n",
       "\n",
       "    .dataframe thead th {\n",
       "        text-align: right;\n",
       "    }\n",
       "</style>\n",
       "<table border=\"1\" class=\"dataframe\">\n",
       "  <thead>\n",
       "    <tr style=\"text-align: right;\">\n",
       "      <th></th>\n",
       "      <th>db_name</th>\n",
       "      <th>table_name</th>\n",
       "      <th>primary_key</th>\n",
       "      <th>timestamp</th>\n",
       "      <th>uniqueness</th>\n",
       "      <th>completeness</th>\n",
       "      <th>correctness</th>\n",
       "      <th>overall</th>\n",
       "    </tr>\n",
       "  </thead>\n",
       "  <tbody>\n",
       "    <tr>\n",
       "      <th>0</th>\n",
       "      <td>example_db</td>\n",
       "      <td>influence</td>\n",
       "      <td>0</td>\n",
       "      <td>2023-02-03 23:38:52</td>\n",
       "      <td>100.0</td>\n",
       "      <td>87.5</td>\n",
       "      <td>100.0</td>\n",
       "      <td>93.75</td>\n",
       "    </tr>\n",
       "    <tr>\n",
       "      <th>1</th>\n",
       "      <td>example_db</td>\n",
       "      <td>influence</td>\n",
       "      <td>1</td>\n",
       "      <td>2023-02-03 23:38:52</td>\n",
       "      <td>100.0</td>\n",
       "      <td>87.5</td>\n",
       "      <td>100.0</td>\n",
       "      <td>93.75</td>\n",
       "    </tr>\n",
       "    <tr>\n",
       "      <th>2</th>\n",
       "      <td>example_db</td>\n",
       "      <td>influence</td>\n",
       "      <td>2</td>\n",
       "      <td>2023-02-03 23:38:52</td>\n",
       "      <td>100.0</td>\n",
       "      <td>87.5</td>\n",
       "      <td>100.0</td>\n",
       "      <td>93.75</td>\n",
       "    </tr>\n",
       "    <tr>\n",
       "      <th>3</th>\n",
       "      <td>example_db</td>\n",
       "      <td>influence</td>\n",
       "      <td>3</td>\n",
       "      <td>2023-02-03 23:38:52</td>\n",
       "      <td>100.0</td>\n",
       "      <td>87.5</td>\n",
       "      <td>100.0</td>\n",
       "      <td>93.75</td>\n",
       "    </tr>\n",
       "    <tr>\n",
       "      <th>4</th>\n",
       "      <td>example_db</td>\n",
       "      <td>influence</td>\n",
       "      <td>4</td>\n",
       "      <td>2023-02-03 23:38:52</td>\n",
       "      <td>100.0</td>\n",
       "      <td>87.5</td>\n",
       "      <td>100.0</td>\n",
       "      <td>93.75</td>\n",
       "    </tr>\n",
       "  </tbody>\n",
       "</table>\n",
       "</div>"
      ],
      "text/plain": [
       "      db_name table_name primary_key            timestamp  uniqueness  \\\n",
       "0  example_db  influence           0  2023-02-03 23:38:52       100.0   \n",
       "1  example_db  influence           1  2023-02-03 23:38:52       100.0   \n",
       "2  example_db  influence           2  2023-02-03 23:38:52       100.0   \n",
       "3  example_db  influence           3  2023-02-03 23:38:52       100.0   \n",
       "4  example_db  influence           4  2023-02-03 23:38:52       100.0   \n",
       "\n",
       "   completeness  correctness  overall  \n",
       "0          87.5        100.0    93.75  \n",
       "1          87.5        100.0    93.75  \n",
       "2          87.5        100.0    93.75  \n",
       "3          87.5        100.0    93.75  \n",
       "4          87.5        100.0    93.75  "
      ]
     },
     "execution_count": 7,
     "metadata": {},
     "output_type": "execute_result"
    }
   ],
   "source": [
    "record_metrics.head()"
   ]
  },
  {
   "cell_type": "markdown",
   "id": "ad77dcdf",
   "metadata": {},
   "source": [
    "### Calculate the record level scores for the tables"
   ]
  },
  {
   "cell_type": "code",
   "execution_count": 8,
   "id": "91813e76",
   "metadata": {},
   "outputs": [
    {
     "data": {
      "text/html": [
       "<div>\n",
       "<style scoped>\n",
       "    .dataframe tbody tr th:only-of-type {\n",
       "        vertical-align: middle;\n",
       "    }\n",
       "\n",
       "    .dataframe tbody tr th {\n",
       "        vertical-align: top;\n",
       "    }\n",
       "\n",
       "    .dataframe thead th {\n",
       "        text-align: right;\n",
       "    }\n",
       "</style>\n",
       "<table border=\"1\" class=\"dataframe\">\n",
       "  <thead>\n",
       "    <tr style=\"text-align: right;\">\n",
       "      <th></th>\n",
       "      <th>correctness</th>\n",
       "      <th>completeness</th>\n",
       "      <th>uniqueness</th>\n",
       "      <th>overall</th>\n",
       "    </tr>\n",
       "    <tr>\n",
       "      <th>table_name</th>\n",
       "      <th></th>\n",
       "      <th></th>\n",
       "      <th></th>\n",
       "      <th></th>\n",
       "    </tr>\n",
       "  </thead>\n",
       "  <tbody>\n",
       "    <tr>\n",
       "      <th>influence</th>\n",
       "      <td>100.0</td>\n",
       "      <td>99.329184</td>\n",
       "      <td>99.502075</td>\n",
       "      <td>99.664592</td>\n",
       "    </tr>\n",
       "    <tr>\n",
       "      <th>journals_price</th>\n",
       "      <td>100.0</td>\n",
       "      <td>59.893705</td>\n",
       "      <td>87.799872</td>\n",
       "      <td>79.946852</td>\n",
       "    </tr>\n",
       "  </tbody>\n",
       "</table>\n",
       "</div>"
      ],
      "text/plain": [
       "                correctness  completeness  uniqueness    overall\n",
       "table_name                                                      \n",
       "influence             100.0     99.329184   99.502075  99.664592\n",
       "journals_price        100.0     59.893705   87.799872  79.946852"
      ]
     },
     "execution_count": 8,
     "metadata": {},
     "output_type": "execute_result"
    }
   ],
   "source": [
    "record_metrics[[\"table_name\", \"correctness\", \"completeness\", \"uniqueness\", \"overall\"]].groupby(\"table_name\").mean()"
   ]
  },
  {
   "cell_type": "markdown",
   "id": "f397796b",
   "metadata": {},
   "source": [
    "### Calculate the attribute level scores for the tables"
   ]
  },
  {
   "cell_type": "code",
   "execution_count": 9,
   "id": "c5ce4332",
   "metadata": {},
   "outputs": [
    {
     "data": {
      "text/html": [
       "<div>\n",
       "<style scoped>\n",
       "    .dataframe tbody tr th:only-of-type {\n",
       "        vertical-align: middle;\n",
       "    }\n",
       "\n",
       "    .dataframe tbody tr th {\n",
       "        vertical-align: top;\n",
       "    }\n",
       "\n",
       "    .dataframe thead th {\n",
       "        text-align: right;\n",
       "    }\n",
       "</style>\n",
       "<table border=\"1\" class=\"dataframe\">\n",
       "  <thead>\n",
       "    <tr style=\"text-align: right;\">\n",
       "      <th></th>\n",
       "      <th>correctness</th>\n",
       "      <th>completeness</th>\n",
       "      <th>uniqueness</th>\n",
       "      <th>overall</th>\n",
       "    </tr>\n",
       "    <tr>\n",
       "      <th>table_name</th>\n",
       "      <th></th>\n",
       "      <th></th>\n",
       "      <th></th>\n",
       "      <th></th>\n",
       "    </tr>\n",
       "  </thead>\n",
       "  <tbody>\n",
       "    <tr>\n",
       "      <th>influence</th>\n",
       "      <td>99.882434</td>\n",
       "      <td>99.329184</td>\n",
       "      <td>59.602351</td>\n",
       "      <td>99.605809</td>\n",
       "    </tr>\n",
       "    <tr>\n",
       "      <th>journals_price</th>\n",
       "      <td>94.487309</td>\n",
       "      <td>59.893705</td>\n",
       "      <td>30.398607</td>\n",
       "      <td>77.190507</td>\n",
       "    </tr>\n",
       "  </tbody>\n",
       "</table>\n",
       "</div>"
      ],
      "text/plain": [
       "                correctness  completeness  uniqueness    overall\n",
       "table_name                                                      \n",
       "influence         99.882434     99.329184   59.602351  99.605809\n",
       "journals_price    94.487309     59.893705   30.398607  77.190507"
      ]
     },
     "execution_count": 9,
     "metadata": {},
     "output_type": "execute_result"
    }
   ],
   "source": [
    "attribute_metrics[[\"table_name\", \"correctness\", \"completeness\", \"uniqueness\", \"overall\"]].groupby(\"table_name\").mean()"
   ]
  }
 ],
 "metadata": {
  "kernelspec": {
   "display_name": "Python 3 (ipykernel)",
   "language": "python",
   "name": "python3"
  },
  "language_info": {
   "codemirror_mode": {
    "name": "ipython",
    "version": 3
   },
   "file_extension": ".py",
   "mimetype": "text/x-python",
   "name": "python",
   "nbconvert_exporter": "python",
   "pygments_lexer": "ipython3",
   "version": "3.8.10"
  },
  "vscode": {
   "interpreter": {
    "hash": "2eaad16b26862e78ad14e927cb4d4aaeffbc1ce1d2054c948a952d98e82de282"
   }
  }
 },
 "nbformat": 4,
 "nbformat_minor": 5
}
